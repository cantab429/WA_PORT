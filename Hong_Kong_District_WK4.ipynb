{
 "cells": [
  {
   "cell_type": "markdown",
   "metadata": {},
   "source": [
    "# The Battle of Neighborhoods (Week 1)"
   ]
  },
  {
   "cell_type": "markdown",
   "metadata": {},
   "source": [
    "## Background Information and Problem\n",
    "Hong Kong is an international financial center and one of the most densely populated cities in the world. The living standard in Hong Kong is also comparable to the most developed cities in the world. The direct gateway of investing to China from an international standpoint means that Hong Kong is a very attractive place for expats and international talents to puruse their career. \n",
    "\n",
    "There are other reason why an individual might seek to relocate to Hong Kong.\n",
    "\n",
    "As various reports show, compared to Singapore, Hong Kong fairs higher for salaries of top expats especially in the financial industry which is close to 25% higher. In addition to this, the income tax to be paid is much lower at just 17% making Hong Kong a haven for expatriates.\n",
    "\n",
    "Hong Kong has a very exciting nightlife that serves as another attraction for expats while relocating, and the cost of it is clearly at par with what most popular cities have. Most luxury items and imported goods are available here making it easier for expats to live a life here the way they would back home. Taking all this into account, expats lead a luxurious life in Hong Kong.\n",
    "\n",
    "Hong Kong with its liberal economy is considered one among the most easiest to adapt cities. The expat community here don’t find it hard to make friends and lead a happening social life, meeting friends, exploring new places, getting new experiences all form part of a great lifestyle for them.\n",
    "\n",
    "Travelling in and around Hong Kong is really easy thanks to its proximity to many other Asian urban cities. Going on a short vacation over the weekend isn’t a challenge here; a short 4-hour flight can take one to many touristy places such as Macau, Singapore, Kuala Lumpur, Vietnam, Manali, etc. The airlines make it even easier by having competitive rates for flight tickets to these locations.\n",
    "\n",
    "For those with young children, schooling in Hong Kong is considered high class, with state-of-the-art technology and infrastructure, and international teaching practices that makes Hong Kong’s education system at par with many global schools. For expats, this is a great plus as these international schools are globally recognized and their certificates valid\n",
    "world-wide\n",
    "\n",
    "As such, there is a huge market for people who would be researching the type of area they wish to relocate to. This report is meant to serve audience who wish to relocate to Hong Kong and looking for where they would like to puruse their house rental or house purchase or for busienssman who wish to understand the neighborhood in different districts of Hong Kong to understand the market landscape. "
   ]
  },
  {
   "cell_type": "markdown",
   "metadata": {},
   "source": [
    "## Methodology and Data\n"
   ]
  },
  {
   "cell_type": "markdown",
   "metadata": {},
   "source": [
    "### Data Involved\n",
    "Firstly, I will extract the data from Wikipedia to define the distrcits of Hong Kong: https://en.wikipedia.org/wiki/Districts_of_Hong_Kong. The longitudes and latitudes of different districts are then obtained by geocoder or any other data source if geocoder cannot locate the district properly. \n",
    "\n",
    "Foursquare API is then utilized to query for popular venues in the neighborhood, forming one hot encoding and applying k-means clustering machine learning techique to explore the data.\n",
    "\n",
    "### Method\n",
    "\n",
    "The district data from Wikipedia are scraped using the read_html function in the pandas package. A first and preliminary data cleaning technique would be applied to ensure the data is consistent.\n",
    "\n",
    "The Foursquare query will then be applied to obtain the nearby popular venues to check the conditions of various districts. The data would then be turned into one-hot encoding and standardized to apply k-means clustering. The districts would then be clustered into different types for presentation."
   ]
  },
  {
   "cell_type": "code",
   "execution_count": null,
   "metadata": {},
   "outputs": [],
   "source": []
  }
 ],
 "metadata": {
  "kernelspec": {
   "display_name": "Python 3",
   "language": "python",
   "name": "python3"
  },
  "language_info": {
   "codemirror_mode": {
    "name": "ipython",
    "version": 3
   },
   "file_extension": ".py",
   "mimetype": "text/x-python",
   "name": "python",
   "nbconvert_exporter": "python",
   "pygments_lexer": "ipython3",
   "version": "3.7.4"
  }
 },
 "nbformat": 4,
 "nbformat_minor": 2
}
