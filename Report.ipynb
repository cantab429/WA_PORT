{
 "cells": [
  {
   "cell_type": "markdown",
   "metadata": {},
   "source": [
    "# HK District Cluster Research\n",
    "\n",
    "### Introduction\n",
    "Hong Kong is an international financial center and one of the most densely populated cities in the world. The living standard in Hong Kong is also comparable to the most developed cities in the world. The direct gateway of investing to China from an international standpoint means that Hong Kong is a very attractive place for expats and international talents to puruse their career. \n",
    "\n",
    "There are other reason why an individual might seek to relocate to Hong Kong.\n",
    "\n",
    "As various reports show, compared to Singapore, Hong Kong fairs higher for salaries of top expats especially in the financial industry which is close to 25% higher. In addition to this, the income tax to be paid is much lower at just 17% making Hong Kong a haven for expatriates.\n",
    "\n",
    "Hong Kong has a very exciting nightlife that serves as another attraction for expats while relocating, and the cost of it is clearly at par with what most popular cities have. Most luxury items and imported goods are available here making it easier for expats to live a life here the way they would back home. Taking all this into account, expats lead a luxurious life in Hong Kong.\n",
    "\n",
    "Hong Kong with its liberal economy is considered one among the most easiest to adapt cities. The expat community here don’t find it hard to make friends and lead a happening social life, meeting friends, exploring new places, getting new experiences all form part of a great lifestyle for them.\n",
    "\n",
    "Travelling in and around Hong Kong is really easy thanks to its proximity to many other Asian urban cities. Going on a short vacation over the weekend isn’t a challenge here; a short 4-hour flight can take one to many touristy places such as Macau, Singapore, Kuala Lumpur, Vietnam, Manali, etc. The airlines make it even easier by having competitive rates for flight tickets to these locations.\n",
    "\n",
    "For those with young children, schooling in Hong Kong is considered high class, with state-of-the-art technology and infrastructure, and international teaching practices that makes Hong Kong’s education system at par with many global schools. For expats, this is a great plus as these international schools are globally recognized and their certificates valid\n",
    "world-wide\n",
    "\n",
    "As such, there is a huge market for people who would be researching the type of area they wish to relocate to. This report is meant to serve audience who wish to relocate to Hong Kong and looking for where they would like to puruse their house rental or house purchase or for busienssman who wish to understand the neighborhood in different districts of Hong Kong to understand the market landscape. \n",
    "\n",
    "### Data Involved\n",
    "\n",
    "Firstly, I will extract the data from Wikipedia to define the distrcits of Hong Kong: https://en.wikipedia.org/wiki/Districts_of_Hong_Kong. The longitudes and latitudes of different districts are then obtained by geocoder or any other data source if geocoder cannot locate the district properly. \n",
    "\n",
    "Foursquare API is then utilized to query for popular venues in the neighborhood, forming one hot encoding and applying k-means clustering machine learning techique to explore the data.\n",
    "\n",
    "### Method\n",
    "\n",
    "The district data from Wikipedia are scraped using the read_html function in the pandas package. A first and preliminary data cleaning technique would be applied to ensure the data is consistent.\n",
    "\n",
    "The Foursquare query will then be applied to obtain the nearby popular venues to check the conditions of various districts. The data would then be turned into one-hot encoding and standardized to apply k-means clustering. The districts would then be clustered into different types for presentation.\n",
    "\n",
    "### Results\n",
    "\n",
    "The 18 districts among Hong Kong were further filered through to only include districts not in the New Territories given we are targetting audience that are probably interested to have a flexible commute within the CBD area of Hong Kong. As such, New Territories would be too far out for individuals to consider.\n",
    "\n",
    "The 18 districts were then further distilled to only 9 districts that are most likely interested by expats. \n",
    "\n",
    "These 9 districts were then clustered to 3 different clusters using K-means technique.\n",
    "\n",
    "### Discussion\n",
    "\n",
    "The three clusters generated involve 7 of them being in cluster 1 and 1 district in each of cluster 2 and 3. By in large, the results make sense given the data obtained from FourSquare indicated that among cluster 1, there is a vibrant mix of shopping malls, restaurants, hotels and coffee shops. In Cluster 2, the location is further away from the main area of Hong Kong island with parks being the most common venue, which is a rare phenmeonen given the scarcity of land in Hong Kong. Lastly, in cluster 3, the district includes only restaurants of different types. It does make sense from a local standpoint given that area is known for eating and industrial work (which wouldnt be captured by FourSquare).\n",
    "\n",
    "### Conclusion\n",
    "\n",
    "The clustering make sense in how it is divided. Cluster 1 would probably be the most sought after by expats or individuals who wish to pursue a good vibrant city life in general. Cluster 2 would be particuarly attractive for individuals who have a strong interest in outing sports or hiking. Lastly, cluster 3 would seem viable for only the biggest food appreciating individual when relocating.\n",
    "\n"
   ]
  },
  {
   "cell_type": "code",
   "execution_count": null,
   "metadata": {},
   "outputs": [],
   "source": []
  }
 ],
 "metadata": {
  "kernelspec": {
   "display_name": "Python 3",
   "language": "python",
   "name": "python3"
  },
  "language_info": {
   "codemirror_mode": {
    "name": "ipython",
    "version": 3
   },
   "file_extension": ".py",
   "mimetype": "text/x-python",
   "name": "python",
   "nbconvert_exporter": "python",
   "pygments_lexer": "ipython3",
   "version": "3.7.4"
  }
 },
 "nbformat": 4,
 "nbformat_minor": 2
}
